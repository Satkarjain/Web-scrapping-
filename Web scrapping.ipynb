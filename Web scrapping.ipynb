{
 "cells": [
  {
   "cell_type": "code",
   "execution_count": 40,
   "metadata": {},
   "outputs": [],
   "source": [
    "import pandas as pd\n",
    "from selenium import webdriver\n",
    "from bs4 import BeautifulSoup\n",
    "import re\n",
    "import pandas as pd\n",
    "from tabulate import tabulate\n",
    "import os\n",
    "import time "
   ]
  },
  {
   "cell_type": "code",
   "execution_count": null,
   "metadata": {},
   "outputs": [],
   "source": [
    "d = webdriver.Chrome()"
   ]
  },
  {
   "cell_type": "code",
   "execution_count": 2,
   "metadata": {},
   "outputs": [],
   "source": [
    "def weather_correct(data):\n",
    "    weather_dict={}\n",
    "    weather_dict[\"Time\"]=data.iloc[0,0]\n",
    "    data.drop(columns=[\"Unnamed: 1\",\"Weather\",\"Wind\",\"Unnamed: 5\",\"Visibility\"],inplace=True)\n",
    "    data.fillna(method=\"ffill\",inplace=True)\n",
    "    data.dropna(how=\"any\",inplace=True)\n",
    "    data.reset_index(inplace=True)\n",
    "    temp=0\n",
    "    humidity=0\n",
    "    pressure=0\n",
    "    for f in range(data.shape[0]):\n",
    "        pattern = r'([+-]?\\d+(\\.\\d+)*)\\s?°([CcFf])'\n",
    "        a_temp=re.findall(pattern,data[\"Temp\"][f])\n",
    "        temp=float(a_temp[0][0])+temp\n",
    "        a_humidity= data[\"Humidity\"][f].split(\"%\")\n",
    "        humidity=float(a_humidity[0])+humidity\n",
    "        a_pressure=data[\"Barometer\"][f].split(\" \")\n",
    "        pressure=float(a_pressure[0])+pressure\n",
    "    temp=temp/len(data)\n",
    "    humidity=humidity/len(data)\n",
    "    pressure=pressure/len(data)\n",
    "    weather_dict[\"Temp\"]=temp\n",
    "    weather_dict[\"Humidity\"]=humidity\n",
    "    weather_dict[\"Pressure\"]=pressure\n",
    "    df=pd.DataFrame(columns=[\"Time\",\"Temp\",\"Humidity\",\"Pressure\"])\n",
    "    df=df.append(weather_dict,ignore_index=True)\n",
    "    return df"
   ]
  },
  {
   "cell_type": "code",
   "execution_count": 6,
   "metadata": {},
   "outputs": [],
   "source": [
    "def format_df(data):\n",
    "    a_temp=list(data[\"Temp\"])\n",
    "    len_df=data.shape[0]\n",
    "    for f in range(len_df):\n",
    "        a_temp"
   ]
  },
  {
   "cell_type": "code",
   "execution_count": 11,
   "metadata": {},
   "outputs": [],
   "source": [
    "def table_content(a):\n",
    "    soup_level1=BeautifulSoup(a, 'lxml')\n",
    "    table = soup_level1.find_all('table')[1]\n",
    "    df = pd.read_html(str(table),header=0)\n",
    "    df = pd.read_html(str(table),header=1)\n",
    "    df=df[0]\n",
    "    df=df.drop(df.index[len(df)-1])\n",
    "    \n",
    "    return df"
   ]
  },
  {
   "cell_type": "code",
   "execution_count": 7,
   "metadata": {},
   "outputs": [],
   "source": [
    "def link_change(url):\n",
    "    d = webdriver.Chrome()\n",
    "    d.get(url)\n",
    "    df=[]\n",
    "    q=d.find_element_by_xpath(\"/html/body/div[1]/div[7]/article/section[1]/div[5]/div[3]\").text\n",
    "    x=len(q.split(\" \"))\n",
    "    for f in range(1,x):\n",
    "        d.find_element_by_xpath(\"/html/body/div[1]/div[7]/article/section[1]/div[5]/div[3]/a[\"+str(f)+\"]\").click()\n",
    "        time.sleep(8)\n",
    "        d_name=\"df\"+test_list[f]\n",
    "        d_name=table_content(d.page_source)\n",
    "        d_name=weather_correct(d_name)\n",
    "        df.append(d_name)\n",
    "    df_final=pd.concat(df,ignore_index =True)\n",
    "    return df_final"
   ]
  },
  {
   "cell_type": "code",
   "execution_count": 16,
   "metadata": {},
   "outputs": [],
   "source": [
    "df_year_wise_total=[]\n",
    "for q in range(2019,2020):\n",
    "    df_month_wise_total=[]\n",
    "    for f in range(1,13):\n",
    "        url=\"https://www.timeanddate.com/weather/india/kota/historic?month=\"+str(f)+\"&year=\"+str(q)\n",
    "        time.sleep(10)\n",
    "        df_month_wise=\"df1\"+test_list[f]\n",
    "        df_month_wise=link_change(url)\n",
    "        name=\"weather\"+str(f)+str(q)+\".csv\"\n",
    "        df_month_wise_total.append(df_month_wise)\n",
    "        df_month_wise.to_csv(name)\n",
    "    df_year_wise=\"df2\"+test_list[q%2000]\n",
    "    df_year_wise=pd.concat(df_month_wise_total,ignore_index =True)\n",
    "    df_year_wise_total.append(df_year_wise)\n",
    "    name_1=\"weather\"+str(q)+\".csv\"\n",
    "    df_year_wise.to_csv(name_1)\n",
    "df_year_wise=pd.concat(df_year_wise_total,ignore_index =True) "
   ]
  },
  {
   "cell_type": "code",
   "execution_count": 14,
   "metadata": {},
   "outputs": [],
   "source": [
    "df_year_wise.to_csv(\"finallweather.csv\")"
   ]
  }
 ],
 "metadata": {
  "kernelspec": {
   "display_name": "Python 3",
   "language": "python",
   "name": "python3"
  },
  "language_info": {
   "codemirror_mode": {
    "name": "ipython",
    "version": 3
   },
   "file_extension": ".py",
   "mimetype": "text/x-python",
   "name": "python",
   "nbconvert_exporter": "python",
   "pygments_lexer": "ipython3",
   "version": "3.7.3"
  }
 },
 "nbformat": 4,
 "nbformat_minor": 2
}
